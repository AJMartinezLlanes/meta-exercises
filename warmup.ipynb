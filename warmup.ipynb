{
 "cells": [
  {
   "cell_type": "markdown",
   "metadata": {},
   "source": [
    "### ABCs\n",
    "Given three integers AA, BB, and CC, determine their sum.<p>\n",
    "Your task is to implement the function getSum(A, B, C) which returns the sum A + B + C."
   ]
  },
  {
   "cell_type": "code",
   "execution_count": 1,
   "metadata": {},
   "outputs": [],
   "source": [
    "def getSum(A: int, B: int, C: int) -> int:\n",
    "  # Write your code here\n",
    "  add_abc = (A + B + C)\n",
    "  return add_abc\n"
   ]
  },
  {
   "cell_type": "code",
   "execution_count": 2,
   "metadata": {},
   "outputs": [
    {
     "data": {
      "text/plain": [
       "6"
      ]
     },
     "execution_count": 2,
     "metadata": {},
     "output_type": "execute_result"
    }
   ],
   "source": [
    "getSum(1,2,3)"
   ]
  },
  {
   "cell_type": "markdown",
   "metadata": {},
   "source": [
    "### All Wrong\n",
    "There's a multiple-choice test with NN questions, numbered from 11 to NN. Each question has 22 answer options, labelled A and B. You know that the correct answer for the iith question is the iith character in the string CC, which is either \"A\" or \"B\", but you want to get a score of 00 on this test by answering every question incorrectly.<p>\n",
    "Your task is to implement the function getWrongAnswers(N, C) which returns a string with NN characters, the iith of which is the answer you should give for question ii in order to get it wrong (either \"A\" or \"B\")."
   ]
  },
  {
   "cell_type": "code",
   "execution_count": 3,
   "metadata": {},
   "outputs": [],
   "source": [
    "def getWrongAnswers(N: int, C: str) -> str:\n",
    "  # Write your code here\n",
    "  comp=[]\n",
    "  for i,v in enumerate(C):\n",
    "    if v == 'A':\n",
    "        v=v.replace('A','B')\n",
    "    else:\n",
    "        v = v.replace('B', 'A')\n",
    "    comp.append(v)\n",
    "  c1 = ''.join(comp)\n",
    "  return c1"
   ]
  },
  {
   "cell_type": "code",
   "execution_count": 4,
   "metadata": {},
   "outputs": [
    {
     "data": {
      "text/plain": [
       "'BAB'"
      ]
     },
     "execution_count": 4,
     "metadata": {},
     "output_type": "execute_result"
    }
   ],
   "source": [
    "getWrongAnswers(3,'ABA')"
   ]
  },
  {
   "cell_type": "markdown",
   "metadata": {},
   "source": [
    "### Battleship \n",
    "You're playing Battleship on a grid of cells with RR rows and CC columns. There are 00 or more battleships on the grid, each occupying a single distinct cell. The cell in the iith row from the top and jjth column from the left either contains a battleship (G_{i,j} = 1G \n",
    "i,j=1) or doesn't (G_{i,j} = 0Gi,j=0).\n",
    "<br>\n",
    "You're going to fire a single shot at a random cell in the grid. You'll choose this cell uniformly at random from the R*CR∗C possible cells. You're interested in the probability that the cell hit by your shot contains a battleship.\n",
    "<br>\n",
    "Your task is to implement the function getHitProbability(R, C, G) which returns this probability.\n",
    "\n",
    "***Note: Your return value must have an absolute or relative error of at most 10^{-6} to be considered correct.***\n"
   ]
  },
  {
   "cell_type": "code",
   "execution_count": 10,
   "metadata": {},
   "outputs": [],
   "source": [
    "def getHitProbability(R: int, C: int, G: list[list[int]]) -> float:\n",
    "  # Write your code here\n",
    "  adding = sum(G)\n",
    "  div = adding / len(G)\n",
    "  return div\n"
   ]
  },
  {
   "cell_type": "code",
   "execution_count": 11,
   "metadata": {},
   "outputs": [
    {
     "data": {
      "text/plain": [
       "0.5"
      ]
     },
     "execution_count": 11,
     "metadata": {},
     "output_type": "execute_result"
    }
   ],
   "source": [
    "getHitProbability(2, 3, [0,0,1,1,0,1])"
   ]
  },
  {
   "cell_type": "code",
   "execution_count": null,
   "metadata": {},
   "outputs": [],
   "source": []
  }
 ],
 "metadata": {
  "kernelspec": {
   "display_name": "Python 3.9.7 ('base')",
   "language": "python",
   "name": "python3"
  },
  "language_info": {
   "codemirror_mode": {
    "name": "ipython",
    "version": 3
   },
   "file_extension": ".py",
   "mimetype": "text/x-python",
   "name": "python",
   "nbconvert_exporter": "python",
   "pygments_lexer": "ipython3",
   "version": "3.9.7"
  },
  "orig_nbformat": 4,
  "vscode": {
   "interpreter": {
    "hash": "38cca0c38332a56087b24af0bc80247f4fced29cb4f7f437d91dc159adec9c4e"
   }
  }
 },
 "nbformat": 4,
 "nbformat_minor": 2
}
